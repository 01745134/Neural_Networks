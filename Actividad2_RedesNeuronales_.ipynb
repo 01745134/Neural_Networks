{
  "nbformat": 4,
  "nbformat_minor": 0,
  "metadata": {
    "colab": {
      "provenance": []
    },
    "kernelspec": {
      "name": "python3",
      "display_name": "Python 3"
    },
    "language_info": {
      "name": "python"
    },
    "accelerator": "GPU",
    "gpuClass": "standard"
  },
  "cells": [
    {
      "cell_type": "markdown",
      "source": [
        "<h1><center><b>Actividad 2: Redes Neuronales en Keras</b></h1></center>\n",
        "\n",
        "\n",
        "<h4><center> Manuel Julio Romero Olvera &nbsp;&nbsp;&nbsp;&nbsp;&nbsp; A01752662  </h4></center>\n",
        "\n",
        "<h4><center> Cristian Gonzaga López &nbsp;&nbsp;&nbsp;&nbsp;&nbsp;  A01745134 </h4></center>"
      ],
      "metadata": {
        "id": "5TJ_BLIPqNyo"
      }
    },
    {
      "cell_type": "markdown",
      "metadata": {
        "id": "OS8sRpp6qEID"
      },
      "source": [
        "# Practice NN with Keras\n",
        "\n",
        "In this excercise, you'll learn to configure some additional parameters in Keras, as well as practice building a full neural network to classify MNIST images."
      ]
    },
    {
      "cell_type": "markdown",
      "metadata": {
        "id": "QViyqZSZnuXZ"
      },
      "source": [
        "## Weight Initialization\n",
        "\n",
        "By default, Keras uses Glorot initialization with a uniform distribution. When creating a layer, you can change this via the `kernel_initializer` parameter to either `\"he_uniform\"`, `\"he_normal\"` or `\"lecun_normal\"`.\n",
        "\n",
        "Additionally, you can define your own initialization scheme through the `VarianceScaling` initializer. For example, we might define a He initialization with a uniform distribution, but based on $fan_{avg}$ instead of $fan_{in}$ like this:\n",
        "\n",
        "```\n",
        "he_avg_init = keras.initializers.VarianceScaling(scale=2., mode='fan_avg',\n",
        "                                                 distribution='uniform')\n",
        "keras.layers.Dense(10, activation=\"sigmoid\", kernel_initializer=he_avg_init)\n",
        "```\n",
        "\n",
        "Documentation: https://keras.io/api/layers/initializers/"
      ]
    },
    {
      "cell_type": "markdown",
      "metadata": {
        "id": "nuLBZOQ_sV2D"
      },
      "source": [
        "## Activation Functions ##\n",
        "\n",
        "Activation functions can be directly specified by the `activation` argument when creating a layer or added directly as an `ActivationLayer`. Furthermore, built-in activation functions can be passed through their string identifier. The following 3 examples all add a dense 10-neuron layer with a ReLU activation.\n",
        "\n",
        "```\n",
        "model.add(keras.layers.Dense(10, activation=\"relu\"))\n",
        "```\n",
        "```\n",
        "model.add(keras.layers.Dense(10, activation=activations.relu))\n",
        "```\n",
        "```\n",
        "model.add(keras.layers.Dense(10))\n",
        "model.add(keras.layers.Activation(activations.relu))\n",
        "```\n",
        "\n",
        "You can check all available activation functions here: https://keras.io/api/layers/activations/\n"
      ]
    },
    {
      "cell_type": "markdown",
      "metadata": {
        "id": "Cb036zQ9yHyK"
      },
      "source": [
        "## Optimizers ##\n",
        "\n",
        "We can specify the use of momentum on a simple SGD optimizer via the `momentum` parameter.\n",
        "\n",
        "```\n",
        "keras.optimizers.SGD(lr=0.001, momentum=0.9)\n",
        "```\n",
        "\n",
        "Further, we can use Nesterov momentum by simply setting the `nesterov` parameter to `True`.\n",
        "\n",
        "```\n",
        "keras.optimizers.SGD(lr=0.001, momentum=0.9, nesterov=True)\n",
        "```\n",
        "\n",
        "We can also choose a different optimizer by using the corresponding class.\n",
        "\n",
        "```\n",
        "# RMSProp\n",
        "keras.optimizers.RMSprop(lr=0.001, rho=0.9)\n",
        "\n",
        "# Adam\n",
        "keras.optimizers.Adam(lr=0.001, beta_1=0.9, beta_2=0.999)\n",
        "```\n",
        "\n",
        "A full list of available optimizers can be found here: https://keras.io/api/optimizers/"
      ]
    },
    {
      "cell_type": "markdown",
      "metadata": {
        "id": "GhwZuKXWso-Y"
      },
      "source": [
        "## Batch Normalization ##\n",
        "\n",
        "Batch normalization can be easily used in Keras by simply adding a `BatchNormalization` layer anywhere in your model. Typically we use BN layers before or after a hidden layer's activation function and/or as the first layer of the model.\n",
        "\n",
        "```\n",
        "model.add(keras.layers.BatchNormalization())\n",
        "```\n",
        "\n",
        "Remember that each BN layer will four parameters per input. Two of those will be non-trainalbe (used only during testing), and two will be trainalbe.\n",
        "\n",
        "Documentation: https://keras.io/api/layers/normalization_layers/batch_normalization/"
      ]
    },
    {
      "cell_type": "markdown",
      "metadata": {
        "id": "bfeieG6cu9YN"
      },
      "source": [
        "## Gradient Clipping ##\n",
        "\n",
        "To implement gradient clipping in Keras we only need to set the `clipvalue` argument when creating an optimizer. For example, the following code will clip every component of the gradient vector to a value between -1.0 and 1.0.\n",
        "\n",
        "```\n",
        "keras.optimizer.SGD(clipvalue=1.0)\n",
        "```"
      ]
    },
    {
      "cell_type": "markdown",
      "metadata": {
        "id": "v1dWzxG60CQU"
      },
      "source": [
        "## Regularization ##\n",
        "\n",
        "Regularization terms can be simply added to a layer through the `kernel_regularizer` parameter to either `keras.regularizers.l1()`, `keras.regularizers.l2()` or `keras.regularizers.l1_l1()`.\n",
        "\n",
        "```\n",
        "keras.layers.Dense(100,activation=\"elu\", kernel_initializer=\"he_normal\", kernel_regularizer=keras.regularizers.l2(0.01))\n",
        "```"
      ]
    },
    {
      "cell_type": "markdown",
      "metadata": {
        "id": "k8t50cl50xpH"
      },
      "source": [
        "## Dropout ##\n",
        "\n",
        "To implement droput in Keras we simply add a `Dropout` layer before each layer.\n",
        "\n",
        "```\n",
        "model.add(keras.layers.Dropout(rate=0.03))\n",
        "```\n",
        "\n",
        "Documentation: https://keras.io/api/layers/regularization_layers/dropout/"
      ]
    },
    {
      "cell_type": "markdown",
      "metadata": {
        "id": "PwMkk7jxdnvA"
      },
      "source": [
        "## Callbacks ##\n",
        "\n",
        "The `fit()` method accepts a `callbacks` argument that lets specify a list of objects that Keras will call at different intervals (before/after training, each epoch or each batch).\n",
        "\n",
        "`EarlyStopping`, for instance, will automatically interrupt training when it measures no progress on the validation set for a certain number of epochs, and it will optionally roll back to the best model at the end.\n",
        "\n",
        "```\n",
        "early_stopping_cb = keras.callbacks.EarlyStopping(patience=10, restore_best_weights=True)\n",
        "history = model.fit(X_train, y_train, epochs=100, validation_split=0.1, callbacks=[early_stopping_cb])\n",
        "```\n",
        "\n",
        "Documentation: https://keras.io/api/callbacks/"
      ]
    },
    {
      "cell_type": "markdown",
      "metadata": {
        "id": "UmAIpyBONULD"
      },
      "source": [
        "## Coding Exercise\n"
      ]
    },
    {
      "cell_type": "code",
      "metadata": {
        "id": "4c9Nk5R8dKTr"
      },
      "source": [
        "import tensorflow as tf\n",
        "from tensorflow import keras\n",
        "import matplotlib.pyplot as plt\n",
        "import numpy as np\n",
        "\n",
        "%matplotlib inline\n",
        "\n",
        "keras.backend.clear_session()\n",
        "tf.random.set_seed(42)\n",
        "np.random.seed(42)"
      ],
      "execution_count": 1,
      "outputs": []
    },
    {
      "cell_type": "markdown",
      "metadata": {
        "id": "drwwKrpxhfPF"
      },
      "source": [
        "Practice training a deep neural network on the MNIST image dataset:\n",
        "\n",
        "1. Build a DNN with 20 hidden layers of 100 neurons each (that’s probably too many, but  it’s the point of this exercise). Use `He` initialization and the `ELU` activation function. Remeber to include a `Flatten` layer at the start of your model to flatten the input image from a $(28\\times28)$ vector into a $(28*28,1)$ one."
      ]
    },
    {
      "cell_type": "code",
      "metadata": {
        "id": "6l4TWtBvhh5E",
        "colab": {
          "base_uri": "https://localhost:8080/"
        },
        "outputId": "a1ca9602-0fe3-48bd-8264-be62c72e1a38"
      },
      "source": [
        "model = keras.models.Sequential()\n",
        "model.add(keras.layers.Flatten(input_shape=[28,28,1]))\n",
        "for i in range(20):\n",
        "  model.add(keras.layers.Dense(100,activation='elu',kernel_initializer='he_normal'))\n",
        "  print(f'{i+1} capa añadida')"
      ],
      "execution_count": 2,
      "outputs": [
        {
          "output_type": "stream",
          "name": "stdout",
          "text": [
            "1 capa añadida\n",
            "2 capa añadida\n",
            "3 capa añadida\n",
            "4 capa añadida\n",
            "5 capa añadida\n",
            "6 capa añadida\n",
            "7 capa añadida\n",
            "8 capa añadida\n",
            "9 capa añadida\n",
            "10 capa añadida\n",
            "11 capa añadida\n",
            "12 capa añadida\n",
            "13 capa añadida\n",
            "14 capa añadida\n",
            "15 capa añadida\n",
            "16 capa añadida\n",
            "17 capa añadida\n",
            "18 capa añadida\n",
            "19 capa añadida\n",
            "20 capa añadida\n"
          ]
        }
      ]
    },
    {
      "cell_type": "markdown",
      "metadata": {
        "id": "arR85JindSJ5"
      },
      "source": [
        "2. Using `SGD` optimization with Nesterov momentum and `sparse_categorical_crossentropy` as your loss function, train the network on the MNIST dataset for 30 epochs. You can load it with `keras.datasets.mnist.load_​data()`. The dataset is composed of 70,000 28 × 28–pixel grayscale images (60,000 for training, 10,000 for testing) with 10 classes, so you’ll need a softmax output layer with 10 neurons. Don't forget to reserve 10% of your data as a validation set.\n",
        "Experiment with different learning rates and momentums, and compare the results."
      ]
    },
    {
      "cell_type": "code",
      "metadata": {
        "id": "6xx_1TMWdXxw",
        "colab": {
          "base_uri": "https://localhost:8080/"
        },
        "outputId": "b1e31af6-07f6-4325-ef99-fd9813cc407a"
      },
      "source": [
        "model.add(keras.layers.Dense(10,activation='softmax')) # Output layer\n",
        "model.compile(optimizer='sgd',loss='sparse_categorical_crossentropy',metrics=['accuracy'])\n",
        "model.summary()"
      ],
      "execution_count": 3,
      "outputs": [
        {
          "output_type": "stream",
          "name": "stdout",
          "text": [
            "Model: \"sequential\"\n",
            "_________________________________________________________________\n",
            " Layer (type)                Output Shape              Param #   \n",
            "=================================================================\n",
            " flatten (Flatten)           (None, 784)               0         \n",
            "                                                                 \n",
            " dense (Dense)               (None, 100)               78500     \n",
            "                                                                 \n",
            " dense_1 (Dense)             (None, 100)               10100     \n",
            "                                                                 \n",
            " dense_2 (Dense)             (None, 100)               10100     \n",
            "                                                                 \n",
            " dense_3 (Dense)             (None, 100)               10100     \n",
            "                                                                 \n",
            " dense_4 (Dense)             (None, 100)               10100     \n",
            "                                                                 \n",
            " dense_5 (Dense)             (None, 100)               10100     \n",
            "                                                                 \n",
            " dense_6 (Dense)             (None, 100)               10100     \n",
            "                                                                 \n",
            " dense_7 (Dense)             (None, 100)               10100     \n",
            "                                                                 \n",
            " dense_8 (Dense)             (None, 100)               10100     \n",
            "                                                                 \n",
            " dense_9 (Dense)             (None, 100)               10100     \n",
            "                                                                 \n",
            " dense_10 (Dense)            (None, 100)               10100     \n",
            "                                                                 \n",
            " dense_11 (Dense)            (None, 100)               10100     \n",
            "                                                                 \n",
            " dense_12 (Dense)            (None, 100)               10100     \n",
            "                                                                 \n",
            " dense_13 (Dense)            (None, 100)               10100     \n",
            "                                                                 \n",
            " dense_14 (Dense)            (None, 100)               10100     \n",
            "                                                                 \n",
            " dense_15 (Dense)            (None, 100)               10100     \n",
            "                                                                 \n",
            " dense_16 (Dense)            (None, 100)               10100     \n",
            "                                                                 \n",
            " dense_17 (Dense)            (None, 100)               10100     \n",
            "                                                                 \n",
            " dense_18 (Dense)            (None, 100)               10100     \n",
            "                                                                 \n",
            " dense_19 (Dense)            (None, 100)               10100     \n",
            "                                                                 \n",
            " dense_20 (Dense)            (None, 10)                1010      \n",
            "                                                                 \n",
            "=================================================================\n",
            "Total params: 271,410\n",
            "Trainable params: 271,410\n",
            "Non-trainable params: 0\n",
            "_________________________________________________________________\n"
          ]
        }
      ]
    },
    {
      "cell_type": "code",
      "source": [
        "mnist = keras.datasets.mnist\n",
        "# Separamos features (X) y targets (Y).\n",
        "(X_train_full, y_train_full), (X_test, y_test) = mnist.load_data() # Dividir en conjunto de entrenamiento y de prueba."
      ],
      "metadata": {
        "id": "1oVDBq9AritH",
        "colab": {
          "base_uri": "https://localhost:8080/"
        },
        "outputId": "0f819801-3f79-4a6c-95ce-b55e44313eba"
      },
      "execution_count": 4,
      "outputs": [
        {
          "output_type": "stream",
          "name": "stdout",
          "text": [
            "Downloading data from https://storage.googleapis.com/tensorflow/tf-keras-datasets/mnist.npz\n",
            "11490434/11490434 [==============================] - 1s 0us/step\n"
          ]
        }
      ]
    },
    {
      "cell_type": "code",
      "source": [
        "X_train = X_train_full / 255.0 # Escalar las imagenes.\n",
        "y_train = y_train_full\n",
        "X_test = X_test / 255.0"
      ],
      "metadata": {
        "id": "IdJHMDGps5qk"
      },
      "execution_count": 5,
      "outputs": []
    },
    {
      "cell_type": "code",
      "source": [
        "history = model.fit(X_train, y_train, epochs=30, validation_split=0.1)"
      ],
      "metadata": {
        "id": "WbvkXD_Ns3j6",
        "outputId": "acac88b2-3960-4fbd-bf25-ed8e45d567da",
        "colab": {
          "base_uri": "https://localhost:8080/"
        }
      },
      "execution_count": 6,
      "outputs": [
        {
          "output_type": "stream",
          "name": "stdout",
          "text": [
            "Epoch 1/30\n",
            "1688/1688 [==============================] - 14s 6ms/step - loss: 0.3983 - accuracy: 0.8800 - val_loss: 0.1992 - val_accuracy: 0.9407\n",
            "Epoch 2/30\n",
            "1688/1688 [==============================] - 7s 4ms/step - loss: 0.1794 - accuracy: 0.9472 - val_loss: 0.1637 - val_accuracy: 0.9502\n",
            "Epoch 3/30\n",
            "1688/1688 [==============================] - 7s 4ms/step - loss: 0.1305 - accuracy: 0.9608 - val_loss: 0.1466 - val_accuracy: 0.9550\n",
            "Epoch 4/30\n",
            "1688/1688 [==============================] - 8s 5ms/step - loss: 0.1024 - accuracy: 0.9691 - val_loss: 0.1046 - val_accuracy: 0.9690\n",
            "Epoch 5/30\n",
            "1688/1688 [==============================] - 8s 4ms/step - loss: 0.0819 - accuracy: 0.9756 - val_loss: 0.0932 - val_accuracy: 0.9718\n",
            "Epoch 6/30\n",
            "1688/1688 [==============================] - 8s 4ms/step - loss: 0.0694 - accuracy: 0.9787 - val_loss: 0.1080 - val_accuracy: 0.9692\n",
            "Epoch 7/30\n",
            "1688/1688 [==============================] - 7s 4ms/step - loss: 0.0615 - accuracy: 0.9807 - val_loss: 0.0950 - val_accuracy: 0.9723\n",
            "Epoch 8/30\n",
            "1688/1688 [==============================] - 8s 5ms/step - loss: 0.0529 - accuracy: 0.9830 - val_loss: 0.0983 - val_accuracy: 0.9733\n",
            "Epoch 9/30\n",
            "1688/1688 [==============================] - 8s 5ms/step - loss: 0.0425 - accuracy: 0.9865 - val_loss: 0.1141 - val_accuracy: 0.9693\n",
            "Epoch 10/30\n",
            "1688/1688 [==============================] - 8s 5ms/step - loss: 0.0399 - accuracy: 0.9867 - val_loss: 0.1246 - val_accuracy: 0.9667\n",
            "Epoch 11/30\n",
            "1688/1688 [==============================] - 8s 5ms/step - loss: 0.0357 - accuracy: 0.9883 - val_loss: 0.5060 - val_accuracy: 0.9018\n",
            "Epoch 12/30\n",
            "1688/1688 [==============================] - 7s 4ms/step - loss: 0.0330 - accuracy: 0.9893 - val_loss: 0.1011 - val_accuracy: 0.9758\n",
            "Epoch 13/30\n",
            "1688/1688 [==============================] - 7s 4ms/step - loss: 0.0281 - accuracy: 0.9906 - val_loss: 0.1020 - val_accuracy: 0.9748\n",
            "Epoch 14/30\n",
            "1688/1688 [==============================] - 8s 5ms/step - loss: 0.0241 - accuracy: 0.9924 - val_loss: 0.1052 - val_accuracy: 0.9755\n",
            "Epoch 15/30\n",
            "1688/1688 [==============================] - 8s 5ms/step - loss: 0.0220 - accuracy: 0.9931 - val_loss: 0.0953 - val_accuracy: 0.9760\n",
            "Epoch 16/30\n",
            "1688/1688 [==============================] - 8s 5ms/step - loss: 0.0202 - accuracy: 0.9939 - val_loss: 0.1105 - val_accuracy: 0.9745\n",
            "Epoch 17/30\n",
            "1688/1688 [==============================] - 8s 4ms/step - loss: 0.0171 - accuracy: 0.9946 - val_loss: 0.0943 - val_accuracy: 0.9778\n",
            "Epoch 18/30\n",
            "1688/1688 [==============================] - 8s 5ms/step - loss: 0.0136 - accuracy: 0.9955 - val_loss: 0.1094 - val_accuracy: 0.9760\n",
            "Epoch 19/30\n",
            "1688/1688 [==============================] - 9s 5ms/step - loss: 0.0176 - accuracy: 0.9945 - val_loss: 0.1044 - val_accuracy: 0.9770\n",
            "Epoch 20/30\n",
            "1688/1688 [==============================] - 8s 4ms/step - loss: 0.0114 - accuracy: 0.9965 - val_loss: 0.1135 - val_accuracy: 0.9763\n",
            "Epoch 21/30\n",
            "1688/1688 [==============================] - 7s 4ms/step - loss: 0.0096 - accuracy: 0.9968 - val_loss: 0.1292 - val_accuracy: 0.9738\n",
            "Epoch 22/30\n",
            "1688/1688 [==============================] - 7s 4ms/step - loss: 0.0182 - accuracy: 0.9942 - val_loss: 0.1160 - val_accuracy: 0.9752\n",
            "Epoch 23/30\n",
            "1688/1688 [==============================] - 7s 4ms/step - loss: 0.0131 - accuracy: 0.9961 - val_loss: 0.1008 - val_accuracy: 0.9797\n",
            "Epoch 24/30\n",
            "1688/1688 [==============================] - 7s 4ms/step - loss: 0.0080 - accuracy: 0.9974 - val_loss: 0.1350 - val_accuracy: 0.9725\n",
            "Epoch 25/30\n",
            "1688/1688 [==============================] - 8s 5ms/step - loss: 0.0109 - accuracy: 0.9964 - val_loss: 0.1141 - val_accuracy: 0.9752\n",
            "Epoch 26/30\n",
            "1688/1688 [==============================] - 7s 4ms/step - loss: 0.0114 - accuracy: 0.9964 - val_loss: 0.1362 - val_accuracy: 0.9737\n",
            "Epoch 27/30\n",
            "1688/1688 [==============================] - 7s 4ms/step - loss: 0.0126 - accuracy: 0.9961 - val_loss: 0.1045 - val_accuracy: 0.9777\n",
            "Epoch 28/30\n",
            "1688/1688 [==============================] - 7s 4ms/step - loss: 0.0111 - accuracy: 0.9966 - val_loss: 0.1099 - val_accuracy: 0.9777\n",
            "Epoch 29/30\n",
            "1688/1688 [==============================] - 7s 4ms/step - loss: 0.0062 - accuracy: 0.9982 - val_loss: 0.1143 - val_accuracy: 0.9765\n",
            "Epoch 30/30\n",
            "1688/1688 [==============================] - 8s 5ms/step - loss: 0.0026 - accuracy: 0.9993 - val_loss: 0.1016 - val_accuracy: 0.9807\n"
          ]
        }
      ]
    },
    {
      "cell_type": "code",
      "source": [
        "import pandas as pd\n",
        "\n",
        "pd.DataFrame(history.history).plot(figsize=(8, 5))\n",
        "plt.grid(True)\n",
        "plt.gca().set_ylim(0, 1) # set the vertical range to [0-1]\n",
        "plt.show()"
      ],
      "metadata": {
        "colab": {
          "base_uri": "https://localhost:8080/",
          "height": 324
        },
        "id": "f0h2-dZ4cyQP",
        "outputId": "7855fa14-9ba7-4c1e-8baa-4519ae3d4a0e"
      },
      "execution_count": 7,
      "outputs": [
        {
          "output_type": "display_data",
          "data": {
            "text/plain": [
              "<Figure size 576x360 with 1 Axes>"
            ],
            "image/png": "[encoded data removed]"
          },
          "metadata": {
            "needs_background": "light"
          }
        }
      ]
    },
    {
      "cell_type": "markdown",
      "metadata": {
        "id": "-N_ccAuujQ1I"
      },
      "source": [
        "**Write your observations here**\n",
        "\n",
        "Se aprecia que el puntaje de precisión de los datos de entrenamiento y validación fueron del 99.93% y 98.07%, respectivamente. Además, la pérdida de los datos de entrenamiento disminuye gradualmente, alcanzando valores más bajos; sin embargo, la pérdida de los datos de validación disminuye hasta alcanzar un punto de inflexión y empieza a subir de nuevo, aunque unos instantes después vuelve a decrecer."
      ]
    },
    {
      "cell_type": "markdown",
      "metadata": {
        "id": "r0nxMFEtiaDy"
      },
      "source": [
        "2. Repeat the experiment using `Nadam` optimization and early stopping (with `patience=10`). Does it produce a better model?\n",
        "Note that since we'll be using early stopping, you can crank up the total number of epochs, knowing that the model won't be overfitted."
      ]
    },
    {
      "cell_type": "code",
      "metadata": {
        "id": "Zk4i3cPCkgvl",
        "colab": {
          "base_uri": "https://localhost:8080/"
        },
        "outputId": "0435b9fd-8ca5-4ad3-8bd1-6a087cb03223"
      },
      "source": [
        "keras.backend.clear_session()\n",
        "tf.random.set_seed(42)\n",
        "np.random.seed(42)\n",
        "\n",
        "model = keras.models.Sequential()\n",
        "model.add(keras.layers.Flatten(input_shape=[28,28,1]))\n",
        "for i in range(20):\n",
        "  model.add(keras.layers.Dense(100,activation='elu',kernel_initializer='he_normal'))\n",
        "  print(f'{i+1} capa añadida')\n",
        "\n",
        "model.add(keras.layers.Dense(10,activation='softmax')) # Output layer\n",
        "model.compile(optimizer='nadam',loss='sparse_categorical_crossentropy',metrics=['accuracy'])\n",
        "model.summary()"
      ],
      "execution_count": 8,
      "outputs": [
        {
          "output_type": "stream",
          "name": "stdout",
          "text": [
            "1 capa añadida\n",
            "2 capa añadida\n",
            "3 capa añadida\n",
            "4 capa añadida\n",
            "5 capa añadida\n",
            "6 capa añadida\n",
            "7 capa añadida\n",
            "8 capa añadida\n",
            "9 capa añadida\n",
            "10 capa añadida\n",
            "11 capa añadida\n",
            "12 capa añadida\n",
            "13 capa añadida\n",
            "14 capa añadida\n",
            "15 capa añadida\n",
            "16 capa añadida\n",
            "17 capa añadida\n",
            "18 capa añadida\n",
            "19 capa añadida\n",
            "20 capa añadida\n",
            "Model: \"sequential\"\n",
            "_________________________________________________________________\n",
            " Layer (type)                Output Shape              Param #   \n",
            "=================================================================\n",
            " flatten (Flatten)           (None, 784)               0         \n",
            "                                                                 \n",
            " dense (Dense)               (None, 100)               78500     \n",
            "                                                                 \n",
            " dense_1 (Dense)             (None, 100)               10100     \n",
            "                                                                 \n",
            " dense_2 (Dense)             (None, 100)               10100     \n",
            "                                                                 \n",
            " dense_3 (Dense)             (None, 100)               10100     \n",
            "                                                                 \n",
            " dense_4 (Dense)             (None, 100)               10100     \n",
            "                                                                 \n",
            " dense_5 (Dense)             (None, 100)               10100     \n",
            "                                                                 \n",
            " dense_6 (Dense)             (None, 100)               10100     \n",
            "                                                                 \n",
            " dense_7 (Dense)             (None, 100)               10100     \n",
            "                                                                 \n",
            " dense_8 (Dense)             (None, 100)               10100     \n",
            "                                                                 \n",
            " dense_9 (Dense)             (None, 100)               10100     \n",
            "                                                                 \n",
            " dense_10 (Dense)            (None, 100)               10100     \n",
            "                                                                 \n",
            " dense_11 (Dense)            (None, 100)               10100     \n",
            "                                                                 \n",
            " dense_12 (Dense)            (None, 100)               10100     \n",
            "                                                                 \n",
            " dense_13 (Dense)            (None, 100)               10100     \n",
            "                                                                 \n",
            " dense_14 (Dense)            (None, 100)               10100     \n",
            "                                                                 \n",
            " dense_15 (Dense)            (None, 100)               10100     \n",
            "                                                                 \n",
            " dense_16 (Dense)            (None, 100)               10100     \n",
            "                                                                 \n",
            " dense_17 (Dense)            (None, 100)               10100     \n",
            "                                                                 \n",
            " dense_18 (Dense)            (None, 100)               10100     \n",
            "                                                                 \n",
            " dense_19 (Dense)            (None, 100)               10100     \n",
            "                                                                 \n",
            " dense_20 (Dense)            (None, 10)                1010      \n",
            "                                                                 \n",
            "=================================================================\n",
            "Total params: 271,410\n",
            "Trainable params: 271,410\n",
            "Non-trainable params: 0\n",
            "_________________________________________________________________\n"
          ]
        }
      ]
    },
    {
      "cell_type": "code",
      "source": [
        "early_stopping_cb = keras.callbacks.EarlyStopping(patience=10, restore_best_weights=True)\n",
        "history = model.fit(X_train, y_train, epochs=50, validation_split=0.1, callbacks=[early_stopping_cb])"
      ],
      "metadata": {
        "id": "0EMmVwXhvRmT",
        "colab": {
          "base_uri": "https://localhost:8080/"
        },
        "outputId": "95676fc5-8948-4820-f772-8ceae7fee152"
      },
      "execution_count": 9,
      "outputs": [
        {
          "output_type": "stream",
          "name": "stdout",
          "text": [
            "Epoch 1/50\n",
            "1688/1688 [==============================] - 20s 10ms/step - loss: 0.4226 - accuracy: 0.8814 - val_loss: 0.2216 - val_accuracy: 0.9362\n",
            "Epoch 2/50\n",
            "1688/1688 [==============================] - 16s 10ms/step - loss: 0.2395 - accuracy: 0.9384 - val_loss: 0.1934 - val_accuracy: 0.9513\n",
            "Epoch 3/50\n",
            "1688/1688 [==============================] - 17s 10ms/step - loss: 0.2032 - accuracy: 0.9488 - val_loss: 0.1719 - val_accuracy: 0.9617\n",
            "Epoch 4/50\n",
            "1688/1688 [==============================] - 19s 11ms/step - loss: 0.1779 - accuracy: 0.9565 - val_loss: 0.1374 - val_accuracy: 0.9633\n",
            "Epoch 5/50\n",
            "1688/1688 [==============================] - 16s 10ms/step - loss: 0.1675 - accuracy: 0.9593 - val_loss: 0.1287 - val_accuracy: 0.9713\n",
            "Epoch 6/50\n",
            "1688/1688 [==============================] - 17s 10ms/step - loss: 0.1519 - accuracy: 0.9636 - val_loss: 0.1521 - val_accuracy: 0.9660\n",
            "Epoch 7/50\n",
            "1688/1688 [==============================] - 16s 10ms/step - loss: 0.1400 - accuracy: 0.9674 - val_loss: 0.1339 - val_accuracy: 0.9675\n",
            "Epoch 8/50\n",
            "1688/1688 [==============================] - 17s 10ms/step - loss: 0.1470 - accuracy: 0.9644 - val_loss: 0.1950 - val_accuracy: 0.9562\n",
            "Epoch 9/50\n",
            "1688/1688 [==============================] - 19s 11ms/step - loss: 0.1376 - accuracy: 0.9666 - val_loss: 0.1929 - val_accuracy: 0.9530\n",
            "Epoch 10/50\n",
            "1688/1688 [==============================] - 18s 11ms/step - loss: 0.1334 - accuracy: 0.9673 - val_loss: 0.1272 - val_accuracy: 0.9697\n",
            "Epoch 11/50\n",
            "1688/1688 [==============================] - 17s 10ms/step - loss: 0.1070 - accuracy: 0.9751 - val_loss: 0.1177 - val_accuracy: 0.9717\n",
            "Epoch 12/50\n",
            "1688/1688 [==============================] - 17s 10ms/step - loss: 0.1730 - accuracy: 0.9582 - val_loss: 0.2344 - val_accuracy: 0.9352\n",
            "Epoch 13/50\n",
            "1688/1688 [==============================] - 17s 10ms/step - loss: 0.1267 - accuracy: 0.9695 - val_loss: 0.2224 - val_accuracy: 0.9358\n",
            "Epoch 14/50\n",
            "1688/1688 [==============================] - 16s 9ms/step - loss: 0.1374 - accuracy: 0.9656 - val_loss: 0.1440 - val_accuracy: 0.9682\n",
            "Epoch 15/50\n",
            "1688/1688 [==============================] - 16s 10ms/step - loss: 0.1166 - accuracy: 0.9719 - val_loss: 0.1556 - val_accuracy: 0.9682\n",
            "Epoch 16/50\n",
            "1688/1688 [==============================] - 17s 10ms/step - loss: 0.1425 - accuracy: 0.9642 - val_loss: 0.1295 - val_accuracy: 0.9683\n",
            "Epoch 17/50\n",
            "1688/1688 [==============================] - 16s 10ms/step - loss: 1.2345 - accuracy: 0.9222 - val_loss: 0.2374 - val_accuracy: 0.9363\n",
            "Epoch 18/50\n",
            "1688/1688 [==============================] - 17s 10ms/step - loss: 0.2037 - accuracy: 0.9452 - val_loss: 0.1691 - val_accuracy: 0.9582\n",
            "Epoch 19/50\n",
            "1688/1688 [==============================] - 16s 10ms/step - loss: 0.1904 - accuracy: 0.9453 - val_loss: 0.4734 - val_accuracy: 0.8398\n",
            "Epoch 20/50\n",
            "1688/1688 [==============================] - 17s 10ms/step - loss: 0.8126 - accuracy: 0.8295 - val_loss: 0.6278 - val_accuracy: 0.8128\n",
            "Epoch 21/50\n",
            "1688/1688 [==============================] - 16s 9ms/step - loss: 0.3482 - accuracy: 0.8927 - val_loss: 0.1876 - val_accuracy: 0.9500\n"
          ]
        }
      ]
    },
    {
      "cell_type": "code",
      "source": [
        "#history = model.fit(X_train, y_train, epochs=30, validation_split=0.1)"
      ],
      "metadata": {
        "id": "hMgemRwQuwrz"
      },
      "execution_count": 10,
      "outputs": []
    },
    {
      "cell_type": "code",
      "source": [
        "import pandas as pd\n",
        "\n",
        "pd.DataFrame(history.history).plot(figsize=(8, 5))\n",
        "plt.grid(True)\n",
        "plt.gca().set_ylim(0, 1) # set the vertical range to [0-1]\n",
        "plt.show()"
      ],
      "metadata": {
        "colab": {
          "base_uri": "https://localhost:8080/",
          "height": 324
        },
        "id": "vy5n-9cqcz1J",
        "outputId": "d19b5a82-c481-4858-e0ea-1227a5239194"
      },
      "execution_count": 11,
      "outputs": [
        {
          "output_type": "display_data",
          "data": {
            "text/plain": [
              "<Figure size 576x360 with 1 Axes>"
            ],
            "image/png": "[encoded data removed]"
          },
          "metadata": {
            "needs_background": "light"
          }
        }
      ]
    },
    {
      "cell_type": "markdown",
      "metadata": {
        "id": "1AdKI9j4khOV"
      },
      "source": [
        "**Write your observations here**\n",
        "\n",
        "Se aprecia que el puntaje de precisión de los datos de entrenamiento y validación fueron del 89.27% y 95.00%, respectivamente. Además, dichos resultados fueron en $epoch = 21$, deteniendo el modelo en ese instante (pese a que se establecieron originalmente 50) para evitar caer en overfitting. Obteniendo así una precisión inferior a los de la sección anterior, aunque con menor números de *epochs*."
      ]
    },
    {
      "cell_type": "markdown",
      "metadata": {
        "id": "oKRInbzOdUII"
      },
      "source": [
        "3. Now try adding `BatchNormalization` layers before each hidden layers' activation function (as well as after the `Flatten` layer) and compare the learning curves: Is it converging faster than before? Does it produce a better model? How does it affect training speed?"
      ]
    },
    {
      "cell_type": "code",
      "metadata": {
        "id": "PcpmPajxdYZm",
        "colab": {
          "base_uri": "https://localhost:8080/"
        },
        "outputId": "aa1997a4-616c-4984-9bc0-fb1171f52c9f"
      },
      "source": [
        "keras.backend.clear_session()\n",
        "tf.random.set_seed(42)\n",
        "np.random.seed(42)\n",
        "\n",
        "model = keras.models.Sequential()\n",
        "model.add(keras.layers.Flatten(input_shape=[28,28,1]))\n",
        "for i in range(20):\n",
        "  model.add(keras.layers.Dense(100,kernel_initializer='he_normal'))\n",
        "  model.add(keras.layers.BatchNormalization())\n",
        "  model.add(keras.layers.ELU())\n",
        "\n",
        "  print(f'{i+1} capa añadida')\n",
        "\n",
        "\"\"\"\n",
        "  model.add(keras.layers.BatchNormalization())\n",
        "  model.add(keras.layers.Dense(100,activation='elu',kernel_initializer='he_normal'))\n",
        "  print(f'{i+1} capa añadida')\n",
        "\"\"\"\n",
        "\n",
        "model.add(keras.layers.Dense(10,activation='softmax')) # Output layer\n",
        "model.compile(optimizer='nadam',loss='sparse_categorical_crossentropy',metrics=['accuracy'])\n",
        "model.summary()"
      ],
      "execution_count": 12,
      "outputs": [
        {
          "output_type": "stream",
          "name": "stdout",
          "text": [
            "1 capa añadida\n",
            "2 capa añadida\n",
            "3 capa añadida\n",
            "4 capa añadida\n",
            "5 capa añadida\n",
            "6 capa añadida\n",
            "7 capa añadida\n",
            "8 capa añadida\n",
            "9 capa añadida\n",
            "10 capa añadida\n",
            "11 capa añadida\n",
            "12 capa añadida\n",
            "13 capa añadida\n",
            "14 capa añadida\n",
            "15 capa añadida\n",
            "16 capa añadida\n",
            "17 capa añadida\n",
            "18 capa añadida\n",
            "19 capa añadida\n",
            "20 capa añadida\n",
            "Model: \"sequential\"\n",
            "_________________________________________________________________\n",
            " Layer (type)                Output Shape              Param #   \n",
            "=================================================================\n",
            " flatten (Flatten)           (None, 784)               0         \n",
            "                                                                 \n",
            " dense (Dense)               (None, 100)               78500     \n",
            "                                                                 \n",
            " batch_normalization (BatchN  (None, 100)              400       \n",
            " ormalization)                                                   \n",
            "                                                                 \n",
            " elu (ELU)                   (None, 100)               0         \n",
            "                                                                 \n",
            " dense_1 (Dense)             (None, 100)               10100     \n",
            "                                                                 \n",
            " batch_normalization_1 (Batc  (None, 100)              400       \n",
            " hNormalization)                                                 \n",
            "                                                                 \n",
            " elu_1 (ELU)                 (None, 100)               0         \n",
            "                                                                 \n",
            " dense_2 (Dense)             (None, 100)               10100     \n",
            "                                                                 \n",
            " batch_normalization_2 (Batc  (None, 100)              400       \n",
            " hNormalization)                                                 \n",
            "                                                                 \n",
            " elu_2 (ELU)                 (None, 100)               0         \n",
            "                                                                 \n",
            " dense_3 (Dense)             (None, 100)               10100     \n",
            "                                                                 \n",
            " batch_normalization_3 (Batc  (None, 100)              400       \n",
            " hNormalization)                                                 \n",
            "                                                                 \n",
            " elu_3 (ELU)                 (None, 100)               0         \n",
            "                                                                 \n",
            " dense_4 (Dense)             (None, 100)               10100     \n",
            "                                                                 \n",
            " batch_normalization_4 (Batc  (None, 100)              400       \n",
            " hNormalization)                                                 \n",
            "                                                                 \n",
            " elu_4 (ELU)                 (None, 100)               0         \n",
            "                                                                 \n",
            " dense_5 (Dense)             (None, 100)               10100     \n",
            "                                                                 \n",
            " batch_normalization_5 (Batc  (None, 100)              400       \n",
            " hNormalization)                                                 \n",
            "                                                                 \n",
            " elu_5 (ELU)                 (None, 100)               0         \n",
            "                                                                 \n",
            " dense_6 (Dense)             (None, 100)               10100     \n",
            "                                                                 \n",
            " batch_normalization_6 (Batc  (None, 100)              400       \n",
            " hNormalization)                                                 \n",
            "                                                                 \n",
            " elu_6 (ELU)                 (None, 100)               0         \n",
            "                                                                 \n",
            " dense_7 (Dense)             (None, 100)               10100     \n",
            "                                                                 \n",
            " batch_normalization_7 (Batc  (None, 100)              400       \n",
            " hNormalization)                                                 \n",
            "                                                                 \n",
            " elu_7 (ELU)                 (None, 100)               0         \n",
            "                                                                 \n",
            " dense_8 (Dense)             (None, 100)               10100     \n",
            "                                                                 \n",
            " batch_normalization_8 (Batc  (None, 100)              400       \n",
            " hNormalization)                                                 \n",
            "                                                                 \n",
            " elu_8 (ELU)                 (None, 100)               0         \n",
            "                                                                 \n",
            " dense_9 (Dense)             (None, 100)               10100     \n",
            "                                                                 \n",
            " batch_normalization_9 (Batc  (None, 100)              400       \n",
            " hNormalization)                                                 \n",
            "                                                                 \n",
            " elu_9 (ELU)                 (None, 100)               0         \n",
            "                                                                 \n",
            " dense_10 (Dense)            (None, 100)               10100     \n",
            "                                                                 \n",
            " batch_normalization_10 (Bat  (None, 100)              400       \n",
            " chNormalization)                                                \n",
            "                                                                 \n",
            " elu_10 (ELU)                (None, 100)               0         \n",
            "                                                                 \n",
            " dense_11 (Dense)            (None, 100)               10100     \n",
            "                                                                 \n",
            " batch_normalization_11 (Bat  (None, 100)              400       \n",
            " chNormalization)                                                \n",
            "                                                                 \n",
            " elu_11 (ELU)                (None, 100)               0         \n",
            "                                                                 \n",
            " dense_12 (Dense)            (None, 100)               10100     \n",
            "                                                                 \n",
            " batch_normalization_12 (Bat  (None, 100)              400       \n",
            " chNormalization)                                                \n",
            "                                                                 \n",
            " elu_12 (ELU)                (None, 100)               0         \n",
            "                                                                 \n",
            " dense_13 (Dense)            (None, 100)               10100     \n",
            "                                                                 \n",
            " batch_normalization_13 (Bat  (None, 100)              400       \n",
            " chNormalization)                                                \n",
            "                                                                 \n",
            " elu_13 (ELU)                (None, 100)               0         \n",
            "                                                                 \n",
            " dense_14 (Dense)            (None, 100)               10100     \n",
            "                                                                 \n",
            " batch_normalization_14 (Bat  (None, 100)              400       \n",
            " chNormalization)                                                \n",
            "                                                                 \n",
            " elu_14 (ELU)                (None, 100)               0         \n",
            "                                                                 \n",
            " dense_15 (Dense)            (None, 100)               10100     \n",
            "                                                                 \n",
            " batch_normalization_15 (Bat  (None, 100)              400       \n",
            " chNormalization)                                                \n",
            "                                                                 \n",
            " elu_15 (ELU)                (None, 100)               0         \n",
            "                                                                 \n",
            " dense_16 (Dense)            (None, 100)               10100     \n",
            "                                                                 \n",
            " batch_normalization_16 (Bat  (None, 100)              400       \n",
            " chNormalization)                                                \n",
            "                                                                 \n",
            " elu_16 (ELU)                (None, 100)               0         \n",
            "                                                                 \n",
            " dense_17 (Dense)            (None, 100)               10100     \n",
            "                                                                 \n",
            " batch_normalization_17 (Bat  (None, 100)              400       \n",
            " chNormalization)                                                \n",
            "                                                                 \n",
            " elu_17 (ELU)                (None, 100)               0         \n",
            "                                                                 \n",
            " dense_18 (Dense)            (None, 100)               10100     \n",
            "                                                                 \n",
            " batch_normalization_18 (Bat  (None, 100)              400       \n",
            " chNormalization)                                                \n",
            "                                                                 \n",
            " elu_18 (ELU)                (None, 100)               0         \n",
            "                                                                 \n",
            " dense_19 (Dense)            (None, 100)               10100     \n",
            "                                                                 \n",
            " batch_normalization_19 (Bat  (None, 100)              400       \n",
            " chNormalization)                                                \n",
            "                                                                 \n",
            " elu_19 (ELU)                (None, 100)               0         \n",
            "                                                                 \n",
            " dense_20 (Dense)            (None, 10)                1010      \n",
            "                                                                 \n",
            "=================================================================\n",
            "Total params: 279,410\n",
            "Trainable params: 275,410\n",
            "Non-trainable params: 4,000\n",
            "_________________________________________________________________\n"
          ]
        }
      ]
    },
    {
      "cell_type": "code",
      "source": [
        "#history = model.fit(X_train, y_train, epochs=50, validation_split=0.1)\n",
        "early_stopping_cb = keras.callbacks.EarlyStopping(patience=10, restore_best_weights=True)\n",
        "history = model.fit(X_train, y_train, epochs=50, validation_split=0.1, callbacks=[early_stopping_cb])"
      ],
      "metadata": {
        "colab": {
          "base_uri": "https://localhost:8080/"
        },
        "id": "248mbky6wVBo",
        "outputId": "5a7db172-0fcc-492e-feaf-f5075d76883d"
      },
      "execution_count": 13,
      "outputs": [
        {
          "output_type": "stream",
          "name": "stdout",
          "text": [
            "Epoch 1/50\n",
            "1688/1688 [==============================] - 52s 26ms/step - loss: 0.4684 - accuracy: 0.8565 - val_loss: 0.1437 - val_accuracy: 0.9592\n",
            "Epoch 2/50\n",
            "1688/1688 [==============================] - 42s 25ms/step - loss: 0.2830 - accuracy: 0.9166 - val_loss: 0.1463 - val_accuracy: 0.9582\n",
            "Epoch 3/50\n",
            "1688/1688 [==============================] - 42s 25ms/step - loss: 0.2306 - accuracy: 0.9311 - val_loss: 0.1246 - val_accuracy: 0.9645\n",
            "Epoch 4/50\n",
            "1688/1688 [==============================] - 42s 25ms/step - loss: 0.1986 - accuracy: 0.9402 - val_loss: 0.0966 - val_accuracy: 0.9735\n",
            "Epoch 5/50\n",
            "1688/1688 [==============================] - 43s 25ms/step - loss: 0.1773 - accuracy: 0.9481 - val_loss: 0.1044 - val_accuracy: 0.9703\n",
            "Epoch 6/50\n",
            "1688/1688 [==============================] - 42s 25ms/step - loss: 0.1542 - accuracy: 0.9546 - val_loss: 0.0960 - val_accuracy: 0.9723\n",
            "Epoch 7/50\n",
            "1688/1688 [==============================] - 42s 25ms/step - loss: 0.1409 - accuracy: 0.9583 - val_loss: 0.0958 - val_accuracy: 0.9697\n",
            "Epoch 8/50\n",
            "1688/1688 [==============================] - 42s 25ms/step - loss: 0.1329 - accuracy: 0.9615 - val_loss: 0.0939 - val_accuracy: 0.9750\n",
            "Epoch 9/50\n",
            "1688/1688 [==============================] - 41s 25ms/step - loss: 0.1177 - accuracy: 0.9655 - val_loss: 0.0818 - val_accuracy: 0.9782\n",
            "Epoch 10/50\n",
            "1688/1688 [==============================] - 41s 24ms/step - loss: 0.1078 - accuracy: 0.9676 - val_loss: 0.0891 - val_accuracy: 0.9768\n",
            "Epoch 11/50\n",
            "1688/1688 [==============================] - 42s 25ms/step - loss: 0.0998 - accuracy: 0.9708 - val_loss: 0.0892 - val_accuracy: 0.9742\n",
            "Epoch 12/50\n",
            "1688/1688 [==============================] - 41s 24ms/step - loss: 0.0964 - accuracy: 0.9724 - val_loss: 0.0790 - val_accuracy: 0.9807\n",
            "Epoch 13/50\n",
            "1688/1688 [==============================] - 42s 25ms/step - loss: 0.0845 - accuracy: 0.9744 - val_loss: 0.0819 - val_accuracy: 0.9802\n",
            "Epoch 14/50\n",
            "1688/1688 [==============================] - 41s 24ms/step - loss: 0.0794 - accuracy: 0.9769 - val_loss: 0.0965 - val_accuracy: 0.9760\n",
            "Epoch 15/50\n",
            "1688/1688 [==============================] - 43s 25ms/step - loss: 0.0814 - accuracy: 0.9759 - val_loss: 0.0750 - val_accuracy: 0.9818\n",
            "Epoch 16/50\n",
            "1688/1688 [==============================] - 42s 25ms/step - loss: 0.0717 - accuracy: 0.9783 - val_loss: 0.0899 - val_accuracy: 0.9773\n",
            "Epoch 17/50\n",
            "1688/1688 [==============================] - 41s 24ms/step - loss: 0.0706 - accuracy: 0.9792 - val_loss: 0.0953 - val_accuracy: 0.9758\n",
            "Epoch 18/50\n",
            "1688/1688 [==============================] - 42s 25ms/step - loss: 0.0649 - accuracy: 0.9813 - val_loss: 0.0791 - val_accuracy: 0.9793\n",
            "Epoch 19/50\n",
            "1688/1688 [==============================] - 42s 25ms/step - loss: 0.0621 - accuracy: 0.9814 - val_loss: 0.0767 - val_accuracy: 0.9805\n",
            "Epoch 20/50\n",
            "1688/1688 [==============================] - 41s 24ms/step - loss: 0.0587 - accuracy: 0.9824 - val_loss: 0.0768 - val_accuracy: 0.9807\n",
            "Epoch 21/50\n",
            "1688/1688 [==============================] - 43s 26ms/step - loss: 0.0579 - accuracy: 0.9829 - val_loss: 0.0706 - val_accuracy: 0.9812\n",
            "Epoch 22/50\n",
            "1688/1688 [==============================] - 43s 25ms/step - loss: 0.0522 - accuracy: 0.9842 - val_loss: 0.0628 - val_accuracy: 0.9835\n",
            "Epoch 23/50\n",
            "1688/1688 [==============================] - 43s 26ms/step - loss: 0.0531 - accuracy: 0.9838 - val_loss: 0.0915 - val_accuracy: 0.9745\n",
            "Epoch 24/50\n",
            "1688/1688 [==============================] - 45s 26ms/step - loss: 0.0481 - accuracy: 0.9847 - val_loss: 0.0759 - val_accuracy: 0.9813\n",
            "Epoch 25/50\n",
            "1688/1688 [==============================] - 42s 25ms/step - loss: 0.0488 - accuracy: 0.9854 - val_loss: 0.0854 - val_accuracy: 0.9783\n",
            "Epoch 26/50\n",
            "1688/1688 [==============================] - 43s 26ms/step - loss: 0.0481 - accuracy: 0.9863 - val_loss: 0.0724 - val_accuracy: 0.9827\n",
            "Epoch 27/50\n",
            "1688/1688 [==============================] - 45s 27ms/step - loss: 0.0440 - accuracy: 0.9864 - val_loss: 0.0795 - val_accuracy: 0.9818\n",
            "Epoch 28/50\n",
            "1688/1688 [==============================] - 43s 25ms/step - loss: 0.0416 - accuracy: 0.9874 - val_loss: 0.0863 - val_accuracy: 0.9805\n",
            "Epoch 29/50\n",
            "1688/1688 [==============================] - 43s 26ms/step - loss: 0.0434 - accuracy: 0.9867 - val_loss: 0.1053 - val_accuracy: 0.9737\n",
            "Epoch 30/50\n",
            "1688/1688 [==============================] - 45s 27ms/step - loss: 0.0404 - accuracy: 0.9875 - val_loss: 0.0742 - val_accuracy: 0.9798\n",
            "Epoch 31/50\n",
            "1688/1688 [==============================] - 43s 25ms/step - loss: 0.0380 - accuracy: 0.9884 - val_loss: 0.0842 - val_accuracy: 0.9822\n",
            "Epoch 32/50\n",
            "1688/1688 [==============================] - 42s 25ms/step - loss: 0.0369 - accuracy: 0.9888 - val_loss: 0.0670 - val_accuracy: 0.9835\n"
          ]
        }
      ]
    },
    {
      "cell_type": "code",
      "source": [
        "import pandas as pd\n",
        "\n",
        "pd.DataFrame(history.history).plot(figsize=(8, 5))\n",
        "plt.grid(True)\n",
        "plt.gca().set_ylim(0, 1) # set the vertical range to [0-1]\n",
        "plt.show()"
      ],
      "metadata": {
        "colab": {
          "base_uri": "https://localhost:8080/",
          "height": 324
        },
        "id": "Y31x32_YZ7__",
        "outputId": "c95e0b88-1999-4d15-9cf5-7d5af74f5b16"
      },
      "execution_count": 14,
      "outputs": [
        {
          "output_type": "display_data",
          "data": {
            "text/plain": [
              "<Figure size 576x360 with 1 Axes>"
            ],
            "image/png": "[encoded data removed]"
          },
          "metadata": {
            "needs_background": "light"
          }
        }
      ]
    },
    {
      "cell_type": "markdown",
      "metadata": {
        "id": "H8MmS0yfkqKV"
      },
      "source": [
        "**Write your observations here**\n",
        "\n",
        "Añadiendo la técnica de *Batch Normalization* se obtuvieron puntajes de precisión del 98.88% y 98.35%. A diferencia del modelo anterior sin dicha técnica, se aumento de manera significativa la precisión de nuestro modelo. Además, dichos resultados se obtuvieron en $epoch = 32$, por lo que demoró más el tiempo de ejecución, aunque no de manera drástica y sus resultados fueron satisfactorios. "
      ]
    },
    {
      "cell_type": "markdown",
      "metadata": {
        "id": "_oEyA9XRdV0f"
      },
      "source": [
        "4. Try regularizing the model with dropout by adding a `Dropout` layer after the last hidden layer. See if you can achieve better accuracy."
      ]
    },
    {
      "cell_type": "code",
      "metadata": {
        "id": "YuZXqOP2dZNJ",
        "colab": {
          "base_uri": "https://localhost:8080/"
        },
        "outputId": "67a27d02-bdca-41a9-b3ca-d515e926db59"
      },
      "source": [
        "keras.backend.clear_session()\n",
        "tf.random.set_seed(42)\n",
        "np.random.seed(42)\n",
        "\n",
        "model = keras.models.Sequential()\n",
        "model.add(keras.layers.Flatten(input_shape=[28,28,1]))\n",
        "for i in range(20):\n",
        "  model.add(keras.layers.Dense(100,kernel_initializer='he_normal'))\n",
        "  model.add(keras.layers.BatchNormalization())\n",
        "  model.add(keras.layers.ELU())\n",
        "\n",
        "  print(f'{i+1} capa añadida')\n",
        "  \"\"\"\n",
        "  model.add(keras.layers.BatchNormalization())\n",
        "  model.add(keras.layers.Dense(100,activation='elu',kernel_initializer='he_normal'))\n",
        "  print(f'{i+1} capa añadida')\n",
        "  \"\"\"\n",
        "\n",
        "# Adding a dropout layer after the last hidden layer\n",
        "model.add(keras.layers.Dropout(rate=0.03))\n",
        "\n",
        "model.add(keras.layers.Dense(10,activation='softmax')) # Output layer\n",
        "model.compile(optimizer='nadam',loss='sparse_categorical_crossentropy',metrics=['accuracy'])\n",
        "model.summary()"
      ],
      "execution_count": 15,
      "outputs": [
        {
          "output_type": "stream",
          "name": "stdout",
          "text": [
            "1 capa añadida\n",
            "2 capa añadida\n",
            "3 capa añadida\n",
            "4 capa añadida\n",
            "5 capa añadida\n",
            "6 capa añadida\n",
            "7 capa añadida\n",
            "8 capa añadida\n",
            "9 capa añadida\n",
            "10 capa añadida\n",
            "11 capa añadida\n",
            "12 capa añadida\n",
            "13 capa añadida\n",
            "14 capa añadida\n",
            "15 capa añadida\n",
            "16 capa añadida\n",
            "17 capa añadida\n",
            "18 capa añadida\n",
            "19 capa añadida\n",
            "20 capa añadida\n",
            "Model: \"sequential\"\n",
            "_________________________________________________________________\n",
            " Layer (type)                Output Shape              Param #   \n",
            "=================================================================\n",
            " flatten (Flatten)           (None, 784)               0         \n",
            "                                                                 \n",
            " dense (Dense)               (None, 100)               78500     \n",
            "                                                                 \n",
            " batch_normalization (BatchN  (None, 100)              400       \n",
            " ormalization)                                                   \n",
            "                                                                 \n",
            " elu (ELU)                   (None, 100)               0         \n",
            "                                                                 \n",
            " dense_1 (Dense)             (None, 100)               10100     \n",
            "                                                                 \n",
            " batch_normalization_1 (Batc  (None, 100)              400       \n",
            " hNormalization)                                                 \n",
            "                                                                 \n",
            " elu_1 (ELU)                 (None, 100)               0         \n",
            "                                                                 \n",
            " dense_2 (Dense)             (None, 100)               10100     \n",
            "                                                                 \n",
            " batch_normalization_2 (Batc  (None, 100)              400       \n",
            " hNormalization)                                                 \n",
            "                                                                 \n",
            " elu_2 (ELU)                 (None, 100)               0         \n",
            "                                                                 \n",
            " dense_3 (Dense)             (None, 100)               10100     \n",
            "                                                                 \n",
            " batch_normalization_3 (Batc  (None, 100)              400       \n",
            " hNormalization)                                                 \n",
            "                                                                 \n",
            " elu_3 (ELU)                 (None, 100)               0         \n",
            "                                                                 \n",
            " dense_4 (Dense)             (None, 100)               10100     \n",
            "                                                                 \n",
            " batch_normalization_4 (Batc  (None, 100)              400       \n",
            " hNormalization)                                                 \n",
            "                                                                 \n",
            " elu_4 (ELU)                 (None, 100)               0         \n",
            "                                                                 \n",
            " dense_5 (Dense)             (None, 100)               10100     \n",
            "                                                                 \n",
            " batch_normalization_5 (Batc  (None, 100)              400       \n",
            " hNormalization)                                                 \n",
            "                                                                 \n",
            " elu_5 (ELU)                 (None, 100)               0         \n",
            "                                                                 \n",
            " dense_6 (Dense)             (None, 100)               10100     \n",
            "                                                                 \n",
            " batch_normalization_6 (Batc  (None, 100)              400       \n",
            " hNormalization)                                                 \n",
            "                                                                 \n",
            " elu_6 (ELU)                 (None, 100)               0         \n",
            "                                                                 \n",
            " dense_7 (Dense)             (None, 100)               10100     \n",
            "                                                                 \n",
            " batch_normalization_7 (Batc  (None, 100)              400       \n",
            " hNormalization)                                                 \n",
            "                                                                 \n",
            " elu_7 (ELU)                 (None, 100)               0         \n",
            "                                                                 \n",
            " dense_8 (Dense)             (None, 100)               10100     \n",
            "                                                                 \n",
            " batch_normalization_8 (Batc  (None, 100)              400       \n",
            " hNormalization)                                                 \n",
            "                                                                 \n",
            " elu_8 (ELU)                 (None, 100)               0         \n",
            "                                                                 \n",
            " dense_9 (Dense)             (None, 100)               10100     \n",
            "                                                                 \n",
            " batch_normalization_9 (Batc  (None, 100)              400       \n",
            " hNormalization)                                                 \n",
            "                                                                 \n",
            " elu_9 (ELU)                 (None, 100)               0         \n",
            "                                                                 \n",
            " dense_10 (Dense)            (None, 100)               10100     \n",
            "                                                                 \n",
            " batch_normalization_10 (Bat  (None, 100)              400       \n",
            " chNormalization)                                                \n",
            "                                                                 \n",
            " elu_10 (ELU)                (None, 100)               0         \n",
            "                                                                 \n",
            " dense_11 (Dense)            (None, 100)               10100     \n",
            "                                                                 \n",
            " batch_normalization_11 (Bat  (None, 100)              400       \n",
            " chNormalization)                                                \n",
            "                                                                 \n",
            " elu_11 (ELU)                (None, 100)               0         \n",
            "                                                                 \n",
            " dense_12 (Dense)            (None, 100)               10100     \n",
            "                                                                 \n",
            " batch_normalization_12 (Bat  (None, 100)              400       \n",
            " chNormalization)                                                \n",
            "                                                                 \n",
            " elu_12 (ELU)                (None, 100)               0         \n",
            "                                                                 \n",
            " dense_13 (Dense)            (None, 100)               10100     \n",
            "                                                                 \n",
            " batch_normalization_13 (Bat  (None, 100)              400       \n",
            " chNormalization)                                                \n",
            "                                                                 \n",
            " elu_13 (ELU)                (None, 100)               0         \n",
            "                                                                 \n",
            " dense_14 (Dense)            (None, 100)               10100     \n",
            "                                                                 \n",
            " batch_normalization_14 (Bat  (None, 100)              400       \n",
            " chNormalization)                                                \n",
            "                                                                 \n",
            " elu_14 (ELU)                (None, 100)               0         \n",
            "                                                                 \n",
            " dense_15 (Dense)            (None, 100)               10100     \n",
            "                                                                 \n",
            " batch_normalization_15 (Bat  (None, 100)              400       \n",
            " chNormalization)                                                \n",
            "                                                                 \n",
            " elu_15 (ELU)                (None, 100)               0         \n",
            "                                                                 \n",
            " dense_16 (Dense)            (None, 100)               10100     \n",
            "                                                                 \n",
            " batch_normalization_16 (Bat  (None, 100)              400       \n",
            " chNormalization)                                                \n",
            "                                                                 \n",
            " elu_16 (ELU)                (None, 100)               0         \n",
            "                                                                 \n",
            " dense_17 (Dense)            (None, 100)               10100     \n",
            "                                                                 \n",
            " batch_normalization_17 (Bat  (None, 100)              400       \n",
            " chNormalization)                                                \n",
            "                                                                 \n",
            " elu_17 (ELU)                (None, 100)               0         \n",
            "                                                                 \n",
            " dense_18 (Dense)            (None, 100)               10100     \n",
            "                                                                 \n",
            " batch_normalization_18 (Bat  (None, 100)              400       \n",
            " chNormalization)                                                \n",
            "                                                                 \n",
            " elu_18 (ELU)                (None, 100)               0         \n",
            "                                                                 \n",
            " dense_19 (Dense)            (None, 100)               10100     \n",
            "                                                                 \n",
            " batch_normalization_19 (Bat  (None, 100)              400       \n",
            " chNormalization)                                                \n",
            "                                                                 \n",
            " elu_19 (ELU)                (None, 100)               0         \n",
            "                                                                 \n",
            " dropout (Dropout)           (None, 100)               0         \n",
            "                                                                 \n",
            " dense_20 (Dense)            (None, 10)                1010      \n",
            "                                                                 \n",
            "=================================================================\n",
            "Total params: 279,410\n",
            "Trainable params: 275,410\n",
            "Non-trainable params: 4,000\n",
            "_________________________________________________________________\n"
          ]
        }
      ]
    },
    {
      "cell_type": "code",
      "source": [
        "#history = model.fit(X_train, y_train, epochs=50, validation_split=0.1)\n",
        "early_stopping_cb = keras.callbacks.EarlyStopping(patience=10, restore_best_weights=True)\n",
        "history = model.fit(X_train, y_train, epochs=50, validation_split=0.1, callbacks=[early_stopping_cb])\n"
      ],
      "metadata": {
        "colab": {
          "base_uri": "https://localhost:8080/"
        },
        "id": "Szz1LauybY7K",
        "outputId": "b1317628-3ff2-4e6d-dc46-764b09bb1268"
      },
      "execution_count": 16,
      "outputs": [
        {
          "output_type": "stream",
          "name": "stdout",
          "text": [
            "Epoch 1/50\n",
            "1688/1688 [==============================] - 52s 26ms/step - loss: 0.4677 - accuracy: 0.8568 - val_loss: 0.1409 - val_accuracy: 0.9598\n",
            "Epoch 2/50\n",
            "1688/1688 [==============================] - 43s 26ms/step - loss: 0.2858 - accuracy: 0.9154 - val_loss: 0.1560 - val_accuracy: 0.9518\n",
            "Epoch 3/50\n",
            "1688/1688 [==============================] - 44s 26ms/step - loss: 0.2346 - accuracy: 0.9309 - val_loss: 0.1267 - val_accuracy: 0.9653\n",
            "Epoch 4/50\n",
            "1688/1688 [==============================] - 44s 26ms/step - loss: 0.2038 - accuracy: 0.9406 - val_loss: 0.1088 - val_accuracy: 0.9705\n",
            "Epoch 5/50\n",
            "1688/1688 [==============================] - 42s 25ms/step - loss: 0.1839 - accuracy: 0.9450 - val_loss: 0.1239 - val_accuracy: 0.9635\n",
            "Epoch 6/50\n",
            "1688/1688 [==============================] - 42s 25ms/step - loss: 0.1616 - accuracy: 0.9537 - val_loss: 0.1029 - val_accuracy: 0.9713\n",
            "Epoch 7/50\n",
            "1688/1688 [==============================] - 43s 25ms/step - loss: 0.1495 - accuracy: 0.9567 - val_loss: 0.0893 - val_accuracy: 0.9762\n",
            "Epoch 8/50\n",
            "1688/1688 [==============================] - 43s 26ms/step - loss: 0.1418 - accuracy: 0.9587 - val_loss: 0.0796 - val_accuracy: 0.9803\n",
            "Epoch 9/50\n",
            "1688/1688 [==============================] - 42s 25ms/step - loss: 0.1277 - accuracy: 0.9625 - val_loss: 0.0935 - val_accuracy: 0.9748\n",
            "Epoch 10/50\n",
            "1688/1688 [==============================] - 42s 25ms/step - loss: 0.1156 - accuracy: 0.9661 - val_loss: 0.0899 - val_accuracy: 0.9758\n",
            "Epoch 11/50\n",
            "1688/1688 [==============================] - 43s 25ms/step - loss: 0.1084 - accuracy: 0.9679 - val_loss: 0.0896 - val_accuracy: 0.9755\n",
            "Epoch 12/50\n",
            "1688/1688 [==============================] - 43s 25ms/step - loss: 0.1035 - accuracy: 0.9691 - val_loss: 0.0774 - val_accuracy: 0.9800\n",
            "Epoch 13/50\n",
            "1688/1688 [==============================] - 43s 26ms/step - loss: 0.0937 - accuracy: 0.9719 - val_loss: 0.0703 - val_accuracy: 0.9808\n",
            "Epoch 14/50\n",
            "1688/1688 [==============================] - 43s 25ms/step - loss: 0.0847 - accuracy: 0.9749 - val_loss: 0.0960 - val_accuracy: 0.9722\n",
            "Epoch 15/50\n",
            "1688/1688 [==============================] - 43s 25ms/step - loss: 0.0838 - accuracy: 0.9758 - val_loss: 0.0792 - val_accuracy: 0.9788\n",
            "Epoch 16/50\n",
            "1688/1688 [==============================] - 43s 26ms/step - loss: 0.0780 - accuracy: 0.9769 - val_loss: 0.0752 - val_accuracy: 0.9802\n",
            "Epoch 17/50\n",
            "1688/1688 [==============================] - 42s 25ms/step - loss: 0.0740 - accuracy: 0.9784 - val_loss: 0.0783 - val_accuracy: 0.9788\n",
            "Epoch 18/50\n",
            "1688/1688 [==============================] - 45s 26ms/step - loss: 0.0685 - accuracy: 0.9791 - val_loss: 0.0807 - val_accuracy: 0.9798\n",
            "Epoch 19/50\n",
            "1688/1688 [==============================] - 46s 27ms/step - loss: 0.0653 - accuracy: 0.9809 - val_loss: 0.0792 - val_accuracy: 0.9788\n",
            "Epoch 20/50\n",
            "1688/1688 [==============================] - 46s 27ms/step - loss: 0.0629 - accuracy: 0.9812 - val_loss: 0.0777 - val_accuracy: 0.9817\n",
            "Epoch 21/50\n",
            "1688/1688 [==============================] - 45s 27ms/step - loss: 0.0585 - accuracy: 0.9824 - val_loss: 0.0782 - val_accuracy: 0.9813\n",
            "Epoch 22/50\n",
            "1688/1688 [==============================] - 44s 26ms/step - loss: 0.0583 - accuracy: 0.9821 - val_loss: 0.0803 - val_accuracy: 0.9813\n",
            "Epoch 23/50\n",
            "1688/1688 [==============================] - 46s 27ms/step - loss: 0.0556 - accuracy: 0.9835 - val_loss: 0.0817 - val_accuracy: 0.9788\n"
          ]
        }
      ]
    },
    {
      "cell_type": "code",
      "source": [
        "import pandas as pd\n",
        "\n",
        "pd.DataFrame(history.history).plot(figsize=(8, 5))\n",
        "plt.grid(True)\n",
        "plt.gca().set_ylim(0, 1) # set the vertical range to [0-1]\n",
        "plt.show()"
      ],
      "metadata": {
        "colab": {
          "base_uri": "https://localhost:8080/",
          "height": 324
        },
        "id": "DfUPFcTxbaIF",
        "outputId": "a481e242-adcb-4d0b-a70f-470a053f4e54"
      },
      "execution_count": 17,
      "outputs": [
        {
          "output_type": "display_data",
          "data": {
            "text/plain": [
              "<Figure size 576x360 with 1 Axes>"
            ],
            "image/png": "[encoded data removed]"
          },
          "metadata": {
            "needs_background": "light"
          }
        }
      ]
    },
    {
      "cell_type": "markdown",
      "metadata": {
        "id": "RMbjkjNZktXX"
      },
      "source": [
        "**Write your final observations here**\n",
        "\n",
        "Fue el mejor modelo en términos de precisión y rápidez de ejecución. Se obtuvieron puntajes del 98.35% y 97.88%. En comparación con el modelo de la sección anterior, disminuyó su precisión en los datos de entramiento un 0.53%. Ahora, también tuvo menor tiempo de ejecución; de hecho, se detuvo en $epoch = 23$. De tal modo que sería pertinente hacer un balance entre sí nos interesa un modelo más rápido, pero un menor puntaje de precisión, o bien, un modelo que demore más, pero tenga una mayor precisión. "
      ]
    }
  ]
}